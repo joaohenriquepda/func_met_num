{
 "cells": [
  {
   "cell_type": "code",
   "execution_count": 17,
   "metadata": {},
   "outputs": [],
   "source": [
    "def f(n):\n",
    "    return (n**3)-(9*n)+3"
   ]
  },
  {
   "cell_type": "code",
   "execution_count": 32,
   "metadata": {},
   "outputs": [],
   "source": [
    "def cal_media(a,b,Fa,Fb):\n",
    "    return (a*Fb-b*Fa)/(Fb-Fa)"
   ]
  },
  {
   "cell_type": "code",
   "execution_count": 33,
   "metadata": {},
   "outputs": [],
   "source": [
    "iteracoes  = 6\n",
    "\n",
    "def fake_position(f, a, b, erro, fn):\n",
    "     Fa = f(a)\n",
    "     Fb = f(b)\n",
    "     if (Fa*Fb > 0):\n",
    "         print('nao existe raiz no intervalo fornecido')\n",
    "     i = 0\n",
    "     while( i != iteracoes):\n",
    "            print('ITERAÇãO:',i)            \n",
    "            Fa = f(a)\n",
    "            print('f(a):',Fa)\n",
    "            Fb = f(b)\n",
    "            print('f(b):',Fb)\n",
    "            \n",
    "            x = cal_media(a,b,Fa,Fb)\n",
    "            Fx = f(x)\n",
    "            print('f(xn):',Fx)\n",
    "            e = b-a\n",
    "            print('erro:', e)\n",
    "            if( Fa*Fx < 0):\n",
    "                b = x\n",
    "            if( Fb*Fx < 0):\n",
    "                a = x\n",
    "            print('--------')\n",
    "            i=i+1\n",
    "            \n",
    "            if b-a <= erro:\n",
    "                print('Condicao de parada encontrada')\n",
    "            if abs(Fx) <= fn :\n",
    "                print('Condicao de parada encontrada')\n",
    "     return x"
   ]
  },
  {
   "cell_type": "code",
   "execution_count": 31,
   "metadata": {},
   "outputs": [
    {
     "name": "stdout",
     "output_type": "stream",
     "text": [
      "ITERAÇãO: 0\n",
      "f(a): 3\n",
      "f(b): -5\n",
      "f(xn): -0.322265625\n",
      "erro: 1\n",
      "--------\n",
      "ITERAÇãO: 1\n",
      "f(a): 3\n",
      "f(b): -0.322265625\n",
      "f(xn): -0.008790199294384404\n",
      "erro: 0.375\n",
      "--------\n",
      "ITERAÇãO: 2\n",
      "f(a): 3\n",
      "f(b): -0.008790199294384404\n",
      "f(xn): -0.0002258841765376829\n",
      "erro: 0.3386243386243386\n",
      "--------\n",
      "Condicao de parada encontrada\n",
      "ITERAÇãO: 3\n",
      "f(a): 3\n",
      "f(b): -0.0002258841765376829\n",
      "f(xn): -5.795025610044746e-06\n",
      "erro: 0.33763504551140067\n",
      "--------\n",
      "Condicao de parada encontrada\n",
      "ITERAÇãO: 4\n",
      "f(a): 3\n",
      "f(b): -5.795025610044746e-06\n",
      "f(xn): -1.4866422226589293e-07\n",
      "erro: 0.3376096252873343\n",
      "--------\n",
      "Condicao de parada encontrada\n",
      "ITERAÇãO: 5\n",
      "f(a): 3\n",
      "f(b): -1.4866422226589293e-07\n",
      "f(xn): -3.813792837092933e-09\n",
      "erro: 0.33760897313645244\n",
      "--------\n",
      "Condicao de parada encontrada\n",
      "ITERAÇãO: 6\n",
      "f(a): 3\n",
      "f(b): -3.813792837092933e-09\n",
      "f(xn): -9.783773791127715e-11\n",
      "erro: 0.33760895640632815\n",
      "--------\n",
      "Condicao de parada encontrada\n",
      "ITERAÇãO: 7\n",
      "f(a): 3\n",
      "f(b): -9.783773791127715e-11\n",
      "f(xn): -2.509992214072554e-12\n",
      "erro: 0.3376089559771379\n",
      "--------\n",
      "Condicao de parada encontrada\n",
      "ITERAÇãO: 8\n",
      "f(a): 3\n",
      "f(b): -2.509992214072554e-12\n",
      "f(xn): -6.439293542825908e-14\n",
      "erro: 0.33760895596612767\n",
      "--------\n",
      "Condicao de parada encontrada\n",
      "ITERAÇãO: 9\n",
      "f(a): 3\n",
      "f(b): -6.439293542825908e-14\n",
      "f(xn): -1.7763568394002505e-15\n",
      "erro: 0.33760895596584517\n",
      "--------\n",
      "Condicao de parada encontrada\n"
     ]
    },
    {
     "data": {
      "text/plain": [
       "0.33760895596583795"
      ]
     },
     "execution_count": 31,
     "metadata": {},
     "output_type": "execute_result"
    }
   ],
   "source": [
    "fake_position(f,0,1,0.05,0.005)"
   ]
  },
  {
   "cell_type": "code",
   "execution_count": null,
   "metadata": {},
   "outputs": [],
   "source": []
  }
 ],
 "metadata": {
  "kernelspec": {
   "display_name": "Python 3",
   "language": "python",
   "name": "python3"
  },
  "language_info": {
   "codemirror_mode": {
    "name": "ipython",
    "version": 3
   },
   "file_extension": ".py",
   "mimetype": "text/x-python",
   "name": "python",
   "nbconvert_exporter": "python",
   "pygments_lexer": "ipython3",
   "version": "3.7.2"
  }
 },
 "nbformat": 4,
 "nbformat_minor": 2
}
