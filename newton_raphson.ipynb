{
 "cells": [
  {
   "cell_type": "code",
   "execution_count": 7,
   "metadata": {},
   "outputs": [],
   "source": [
    "def f(n):\n",
    "    return (n**3)-(9*n)+3"
   ]
  },
  {
   "cell_type": "code",
   "execution_count": 25,
   "metadata": {},
   "outputs": [],
   "source": [
    "def f_line(n):\n",
    "    return 3*(n**2)-9"
   ]
  },
  {
   "cell_type": "code",
   "execution_count": 26,
   "metadata": {},
   "outputs": [],
   "source": [
    "def next(n):\n",
    "    return n-(f(n))/(f_line(n))"
   ]
  },
  {
   "cell_type": "code",
   "execution_count": 41,
   "metadata": {},
   "outputs": [],
   "source": [
    "iteracoes  = 6\n",
    "\n",
    "def newton_r(f,x,a,b,fn):\n",
    "     Fa = f(a)\n",
    "     Fb = f(b)\n",
    "     if (Fa*Fb > 0):\n",
    "         print('nao existe raiz no intervalo fornecido')\n",
    "     i = 0\n",
    "     while( i != iteracoes):\n",
    "            print('ITERAÇãO:',i)\n",
    "            print('Xn:', x)    \n",
    "            Fx = f(x)\n",
    "            print('f(xn): %.7f' %Fx)\n",
    "            x = next(x)\n",
    "            print('Xn+1', x)\n",
    "            print('--------')\n",
    "            i=i+1\n",
    "            if abs(Fx) <= fn :\n",
    "                print('Condicao de parada encontrada')\n",
    "     return x"
   ]
  },
  {
   "cell_type": "code",
   "execution_count": 42,
   "metadata": {},
   "outputs": [
    {
     "name": "stdout",
     "output_type": "stream",
     "text": [
      "ITERAÇãO: 0\n",
      "Xn: 0.1\n",
      "f(xn): 2.10100\n",
      "Xn+1 0.3342251950947603\n",
      "--------\n",
      "ITERAÇãO: 1\n",
      "Xn: 0.3342251950947603\n",
      "f(xn): 0.02931\n",
      "Xn+1 0.33760762655153287\n",
      "--------\n",
      "ITERAÇãO: 2\n",
      "Xn: 0.33760762655153287\n",
      "f(xn): 0.00001\n",
      "Xn+1 0.337608955965631\n",
      "--------\n",
      "Condicao de parada encontrada\n",
      "ITERAÇãO: 3\n",
      "Xn: 0.337608955965631\n",
      "f(xn): 0.00000\n",
      "Xn+1 0.33760895596583773\n",
      "--------\n",
      "Condicao de parada encontrada\n",
      "ITERAÇãO: 4\n",
      "Xn: 0.33760895596583773\n",
      "f(xn): 0.00000\n",
      "Xn+1 0.3376089559658378\n",
      "--------\n",
      "Condicao de parada encontrada\n",
      "ITERAÇãO: 5\n",
      "Xn: 0.3376089559658378\n",
      "f(xn): -0.00000\n",
      "Xn+1 0.33760895596583773\n",
      "--------\n",
      "Condicao de parada encontrada\n"
     ]
    },
    {
     "data": {
      "text/plain": [
       "0.33760895596583773"
      ]
     },
     "execution_count": 42,
     "metadata": {},
     "output_type": "execute_result"
    }
   ],
   "source": [
    "newton_r(f,0.1,0,1,0.005)"
   ]
  },
  {
   "cell_type": "code",
   "execution_count": null,
   "metadata": {},
   "outputs": [],
   "source": []
  },
  {
   "cell_type": "code",
   "execution_count": null,
   "metadata": {},
   "outputs": [],
   "source": []
  }
 ],
 "metadata": {
  "kernelspec": {
   "display_name": "Python 3",
   "language": "python",
   "name": "python3"
  },
  "language_info": {
   "codemirror_mode": {
    "name": "ipython",
    "version": 3
   },
   "file_extension": ".py",
   "mimetype": "text/x-python",
   "name": "python",
   "nbconvert_exporter": "python",
   "pygments_lexer": "ipython3",
   "version": "3.7.2"
  }
 },
 "nbformat": 4,
 "nbformat_minor": 2
}
