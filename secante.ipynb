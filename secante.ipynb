{
 "cells": [
  {
   "cell_type": "code",
   "execution_count": 13,
   "metadata": {},
   "outputs": [],
   "source": [
    "def f(n):\n",
    "    return (n**2)+n-6"
   ]
  },
  {
   "cell_type": "code",
   "execution_count": 14,
   "metadata": {},
   "outputs": [],
   "source": [
    "# def f_line(n):\n",
    "#     return 3*(n**2)-9"
   ]
  },
  {
   "cell_type": "code",
   "execution_count": 15,
   "metadata": {},
   "outputs": [],
   "source": [
    "def next(n,n_anterior):\n",
    "    return ( n_anterior*(f(n))- n*(f(n_anterior)))/( f(n)- f(n_anterior)) "
   ]
  },
  {
   "cell_type": "code",
   "execution_count": 18,
   "metadata": {},
   "outputs": [],
   "source": [
    "iteracoes  = 6\n",
    "\n",
    "def secante(f,x_anterior,x,fn):\n",
    "#      Fa = f(a)\n",
    "#      Fb = f(b)\n",
    "#      if (Fa*Fb > 0):\n",
    "#          print('nao existe raiz no intervalo fornecido')\n",
    "     i = 0\n",
    "     while( i != iteracoes):\n",
    "            print('ITERAÇãO:',i)\n",
    "            print('Xn:', x)    \n",
    "            Fx = f(x)\n",
    "            print('f(xn): %.7f' %Fx)\n",
    "            x = next(x,x_anterior)\n",
    "            print('Xn+1: ', x)\n",
    "            print('--------')\n",
    "            i=i+1\n",
    "            if abs(Fx) <= fn :\n",
    "                print('Condicao de parada encontrada')\n",
    "     return x"
   ]
  },
  {
   "cell_type": "code",
   "execution_count": 19,
   "metadata": {},
   "outputs": [
    {
     "name": "stdout",
     "output_type": "stream",
     "text": [
      "ITERAÇãO: 0\n",
      "Xn: 1.7\n",
      "f(xn): -1.4100000\n",
      "Xn+1:  2.0357142857142856\n",
      "--------\n",
      "ITERAÇãO: 1\n",
      "Xn: 2.0357142857142856\n",
      "f(xn): 0.1798469\n",
      "Xn+1:  1.9960629921259845\n",
      "--------\n",
      "ITERAÇãO: 2\n",
      "Xn: 1.9960629921259845\n",
      "f(xn): -0.0196695\n",
      "Xn+1:  2.000437828371278\n",
      "--------\n",
      "ITERAÇãO: 3\n",
      "Xn: 2.000437828371278\n",
      "f(xn): 0.0021893\n",
      "Xn+1:  1.9999513571359084\n",
      "--------\n",
      "Condicao de parada encontrada\n",
      "ITERAÇãO: 4\n",
      "Xn: 1.9999513571359084\n",
      "f(xn): -0.0002432\n",
      "Xn+1:  2.0000054048211005\n",
      "--------\n",
      "Condicao de parada encontrada\n",
      "ITERAÇãO: 5\n",
      "Xn: 2.0000054048211005\n",
      "f(xn): 0.0000270\n",
      "Xn+1:  1.9999993994650431\n",
      "--------\n",
      "Condicao de parada encontrada\n"
     ]
    },
    {
     "data": {
      "text/plain": [
       "1.9999993994650431"
      ]
     },
     "execution_count": 19,
     "metadata": {},
     "output_type": "execute_result"
    }
   ],
   "source": [
    "secante(f,1.5,1.7,0.005)"
   ]
  },
  {
   "cell_type": "code",
   "execution_count": null,
   "metadata": {},
   "outputs": [],
   "source": []
  }
 ],
 "metadata": {
  "kernelspec": {
   "display_name": "Python 3",
   "language": "python",
   "name": "python3"
  },
  "language_info": {
   "codemirror_mode": {
    "name": "ipython",
    "version": 3
   },
   "file_extension": ".py",
   "mimetype": "text/x-python",
   "name": "python",
   "nbconvert_exporter": "python",
   "pygments_lexer": "ipython3",
   "version": "3.7.2"
  }
 },
 "nbformat": 4,
 "nbformat_minor": 2
}
