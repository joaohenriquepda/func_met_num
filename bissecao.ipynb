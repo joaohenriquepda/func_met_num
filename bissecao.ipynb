{
 "cells": [
  {
   "cell_type": "code",
   "execution_count": 16,
   "metadata": {},
   "outputs": [],
   "source": [
    "def f(n):\n",
    "    return (n**2)-3"
   ]
  },
  {
   "cell_type": "code",
   "execution_count": 79,
   "metadata": {},
   "outputs": [],
   "source": [
    "iteracoes  = 5\n",
    "\n",
    "def bissec(f, a, b, erro):\n",
    "     Fa = f(a)\n",
    "     Fb = f(b)\n",
    "     \n",
    "     if (Fa*Fb > 0):\n",
    "         print('nao existe raiz no intervalo fornecido')\n",
    "     i = 0\n",
    "     while( i != iteracoes):\n",
    "            print('ITERAÇãO:',i)   \n",
    "            x = (a+b)/2\n",
    "\n",
    "            print('xn:', x)\n",
    "            Fa = f(a)\n",
    "            print('f(a):',Fa)\n",
    "            Fb = f(b)\n",
    "            print('f(b):',Fb)\n",
    "            Fx = f(x)\n",
    "            print('f(xn):',Fx)\n",
    "            e = b-a\n",
    "            print('erro:', e)\n",
    "            if( Fa*Fx < 0):\n",
    "                b = x\n",
    "            if( Fb*Fx < 0):\n",
    "                a = x\n",
    "            print('--------')\n",
    "            i=i+1\n",
    "            \n",
    "            if b-a <= erro:\n",
    "                print('Condicao de parada encontrada')\n",
    "     return x\n"
   ]
  },
  {
   "cell_type": "code",
   "execution_count": 80,
   "metadata": {},
   "outputs": [
    {
     "name": "stdout",
     "output_type": "stream",
     "text": [
      "ITERAÇãO: 0\n",
      "xn: 1.65\n",
      "f(a): -0.75\n",
      "f(b): 0.2400000000000002\n",
      "f(xn): -0.2775000000000003\n",
      "erro: 0.30000000000000004\n",
      "--------\n",
      "ITERAÇãO: 1\n",
      "xn: 1.725\n",
      "f(a): -0.2775000000000003\n",
      "f(b): 0.2400000000000002\n",
      "f(xn): -0.02437499999999959\n",
      "erro: 0.15000000000000013\n",
      "--------\n",
      "ITERAÇãO: 2\n",
      "xn: 1.7625000000000002\n",
      "f(a): -0.02437499999999959\n",
      "f(b): 0.2400000000000002\n",
      "f(xn): 0.10640625000000048\n",
      "erro: 0.07499999999999996\n",
      "--------\n",
      "Condicao de parada encontrada\n",
      "ITERAÇãO: 3\n",
      "xn: 1.7437500000000001\n",
      "f(a): -0.02437499999999959\n",
      "f(b): 0.10640625000000048\n",
      "f(xn): 0.04066406250000032\n",
      "erro: 0.03750000000000009\n",
      "--------\n",
      "Condicao de parada encontrada\n",
      "ITERAÇãO: 4\n",
      "xn: 1.734375\n",
      "f(a): -0.02437499999999959\n",
      "f(b): 0.04066406250000032\n",
      "f(xn): 0.008056640625\n",
      "erro: 0.018750000000000044\n",
      "--------\n",
      "Condicao de parada encontrada\n"
     ]
    },
    {
     "data": {
      "text/plain": [
       "1.734375"
      ]
     },
     "execution_count": 80,
     "metadata": {},
     "output_type": "execute_result"
    }
   ],
   "source": [
    "bissec(f, 1.5,1.8,0.04)"
   ]
  },
  {
   "cell_type": "code",
   "execution_count": null,
   "metadata": {},
   "outputs": [],
   "source": []
  }
 ],
 "metadata": {
  "kernelspec": {
   "display_name": "Python 3",
   "language": "python",
   "name": "python3"
  },
  "language_info": {
   "codemirror_mode": {
    "name": "ipython",
    "version": 3
   },
   "file_extension": ".py",
   "mimetype": "text/x-python",
   "name": "python",
   "nbconvert_exporter": "python",
   "pygments_lexer": "ipython3",
   "version": "3.7.2"
  }
 },
 "nbformat": 4,
 "nbformat_minor": 2
}
